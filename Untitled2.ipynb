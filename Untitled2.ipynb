{
  "nbformat": 4,
  "nbformat_minor": 0,
  "metadata": {
    "colab": {
      "name": "Untitled2.ipynb",
      "provenance": [],
      "authorship_tag": "ABX9TyN9mCJLa9bVaNrHuMpmQJ/U",
      "include_colab_link": true
    },
    "kernelspec": {
      "name": "python3",
      "display_name": "Python 3"
    },
    "language_info": {
      "name": "python"
    }
  },
  "cells": [
    {
      "cell_type": "markdown",
      "metadata": {
        "id": "view-in-github",
        "colab_type": "text"
      },
      "source": [
        "<a href=\"https://colab.research.google.com/github/MachadoDeveloper/MachadoDeveloper/blob/main/Untitled2.ipynb\" target=\"_parent\"><img src=\"https://colab.research.google.com/assets/colab-badge.svg\" alt=\"Open In Colab\"/></a>"
      ]
    },
    {
      "cell_type": "code",
      "source": [
        "import numpy as np"
      ],
      "metadata": {
        "id": "2Nm9mji_WoSl"
      },
      "execution_count": null,
      "outputs": []
    },
    {
      "cell_type": "code",
      "execution_count": null,
      "metadata": {
        "colab": {
          "base_uri": "https://localhost:8080/"
        },
        "id": "KbjtfIvXUq_b",
        "outputId": "95037246-2766-4a49-b02d-cf6067308ee5"
      },
      "outputs": [
        {
          "output_type": "stream",
          "name": "stdout",
          "text": [
            "['laranja', 'manga', 'uva', 'maça', 'pera', 'melão']\n"
          ]
        }
      ],
      "source": [
        "array = ['laranja', 'manga', 'uva', 'maça', 'pera', 'melão'] #string \n",
        "print(array)"
      ]
    },
    {
      "cell_type": "code",
      "source": [
        "numeros = [1,5,7,6,4,3,9,8,0,2]\n",
        "print(numeros)"
      ],
      "metadata": {
        "colab": {
          "base_uri": "https://localhost:8080/"
        },
        "id": "UaipN54eV1bb",
        "outputId": "27998201-b8c4-4e82-9cbc-a625bdfaf392"
      },
      "execution_count": null,
      "outputs": [
        {
          "output_type": "stream",
          "name": "stdout",
          "text": [
            "[1, 5, 7, 6, 4, 3, 9, 8, 0, 2]\n"
          ]
        }
      ]
    },
    {
      "cell_type": "code",
      "source": [
        "print(numeros[5])"
      ],
      "metadata": {
        "colab": {
          "base_uri": "https://localhost:8080/"
        },
        "id": "jftEVFLQWHUH",
        "outputId": "f699180d-f3d9-4d30-ccb2-c45bb7ec44d1"
      },
      "execution_count": null,
      "outputs": [
        {
          "output_type": "stream",
          "name": "stdout",
          "text": [
            "3\n"
          ]
        }
      ]
    },
    {
      "cell_type": "code",
      "source": [
        "grades = np.array(numeros)\n",
        "print(grades)"
      ],
      "metadata": {
        "colab": {
          "base_uri": "https://localhost:8080/"
        },
        "id": "Hm67-w-rW1qJ",
        "outputId": "635f050f-0444-44ab-e050-a4b7e0c6d96f"
      },
      "execution_count": null,
      "outputs": [
        {
          "output_type": "stream",
          "name": "stdout",
          "text": [
            "[1 5 7 6 4 3 9 8 0 2]\n"
          ]
        }
      ]
    },
    {
      "cell_type": "code",
      "source": [
        "print(type(grades))"
      ],
      "metadata": {
        "colab": {
          "base_uri": "https://localhost:8080/"
        },
        "id": "r7zBGHdYXt9Z",
        "outputId": "116ef315-f8a1-4b55-8b41-4de4ebccfe0e"
      },
      "execution_count": null,
      "outputs": [
        {
          "output_type": "stream",
          "name": "stdout",
          "text": [
            "<class 'numpy.ndarray'>\n"
          ]
        }
      ]
    },
    {
      "cell_type": "code",
      "source": [
        "print(type(numeros))"
      ],
      "metadata": {
        "colab": {
          "base_uri": "https://localhost:8080/"
        },
        "id": "_85OBO7lX1Pi",
        "outputId": "26464892-0eca-4b03-e41b-eede035c8d87"
      },
      "execution_count": null,
      "outputs": [
        {
          "output_type": "stream",
          "name": "stdout",
          "text": [
            "<class 'list'>\n"
          ]
        }
      ]
    },
    {
      "cell_type": "code",
      "source": [
        "grades.shape"
      ],
      "metadata": {
        "colab": {
          "base_uri": "https://localhost:8080/"
        },
        "id": "m9uTg49QYhp4",
        "outputId": "5be49d23-793c-4510-ecdd-9676924e5e0b"
      },
      "execution_count": null,
      "outputs": [
        {
          "output_type": "execute_result",
          "data": {
            "text/plain": [
              "(10,)"
            ]
          },
          "metadata": {},
          "execution_count": 14
        }
      ]
    },
    {
      "cell_type": "code",
      "source": [
        "for x in grades:\n",
        "  print(x)"
      ],
      "metadata": {
        "colab": {
          "base_uri": "https://localhost:8080/"
        },
        "id": "K2q8yMgpYrWs",
        "outputId": "ad402895-a0c5-4255-fa7a-14491212e9f9"
      },
      "execution_count": null,
      "outputs": [
        {
          "output_type": "stream",
          "name": "stdout",
          "text": [
            "1\n",
            "5\n",
            "7\n",
            "6\n",
            "4\n",
            "3\n",
            "9\n",
            "8\n",
            "0\n",
            "2\n"
          ]
        }
      ]
    },
    {
      "cell_type": "code",
      "source": [
        "print(grades[0])\n",
        "print(grades[1])\n",
        "print(grades[2])\n",
        "print(grades[3])\n",
        "print(grades[4])\n",
        "print(grades[5])\n",
        "print(grades[6])\n",
        "print(grades[7])\n",
        "print(grades[8])\n",
        "print(grades[9])"
      ],
      "metadata": {
        "colab": {
          "base_uri": "https://localhost:8080/"
        },
        "id": "M_57FShpZFpA",
        "outputId": "7bc0d434-6251-4a07-bb49-c0d23ffc4da8"
      },
      "execution_count": null,
      "outputs": [
        {
          "output_type": "stream",
          "name": "stdout",
          "text": [
            "1\n",
            "5\n",
            "7\n",
            "6\n",
            "4\n",
            "3\n",
            "9\n",
            "8\n",
            "0\n",
            "2\n"
          ]
        }
      ]
    },
    {
      "cell_type": "code",
      "source": [
        "grades.mean()"
      ],
      "metadata": {
        "colab": {
          "base_uri": "https://localhost:8080/"
        },
        "id": "39ojlMPDZxXm",
        "outputId": "19069f2b-468c-47fd-ba3f-07cff59aaafa"
      },
      "execution_count": null,
      "outputs": [
        {
          "output_type": "execute_result",
          "data": {
            "text/plain": [
              "4.5"
            ]
          },
          "metadata": {},
          "execution_count": 18
        }
      ]
    },
    {
      "cell_type": "code",
      "source": [
        "valor = 22.9\n",
        "print(type(valor))"
      ],
      "metadata": {
        "colab": {
          "base_uri": "https://localhost:8080/"
        },
        "id": "HWOxeOobaG5f",
        "outputId": "2bb4ea60-0713-4a57-c3de-e84639599db7"
      },
      "execution_count": null,
      "outputs": [
        {
          "output_type": "stream",
          "name": "stdout",
          "text": [
            "<class 'float'>\n"
          ]
        }
      ]
    },
    {
      "cell_type": "code",
      "source": [
        "notas = [np.array, nparray2]\n",
        "(2,2)\n",
        "(5,2)"
      ],
      "metadata": {
        "id": "jP5D03mJbHV5"
      },
      "execution_count": null,
      "outputs": []
    },
    {
      "cell_type": "code",
      "source": [
        "juntos = np.array([numeros,grades])"
      ],
      "metadata": {
        "id": "5vXV-WreefOR"
      },
      "execution_count": null,
      "outputs": []
    },
    {
      "cell_type": "code",
      "source": [
        "print(juntos)"
      ],
      "metadata": {
        "colab": {
          "base_uri": "https://localhost:8080/"
        },
        "id": "MSGWo6QtfBtz",
        "outputId": "292dc9ed-b347-46ca-a4f2-9cc9b1007cca"
      },
      "execution_count": null,
      "outputs": [
        {
          "output_type": "stream",
          "name": "stdout",
          "text": [
            "[[1 5 7 6 4 3 9 8 0 2]\n",
            " [1 5 7 6 4 3 9 8 0 2]]\n"
          ]
        }
      ]
    },
    {
      "cell_type": "code",
      "source": [
        "juntos[1][7] = 48"
      ],
      "metadata": {
        "id": "MTZg91lUfJiI"
      },
      "execution_count": null,
      "outputs": []
    },
    {
      "cell_type": "code",
      "source": [
        "print(juntos)"
      ],
      "metadata": {
        "colab": {
          "base_uri": "https://localhost:8080/"
        },
        "id": "i-Sw0J31fU3n",
        "outputId": "209885c7-7868-4a14-9e4a-4657b549d7f3"
      },
      "execution_count": null,
      "outputs": [
        {
          "output_type": "stream",
          "name": "stdout",
          "text": [
            "[[ 1  5  7  6  4  3  9  8  0  2]\n",
            " [ 1  5  7  6  4  3  9 48  0  2]]\n"
          ]
        }
      ]
    },
    {
      "cell_type": "code",
      "source": [
        "media_num = juntos[0].mean()\n",
        "media_grades = juntos[1].mean()"
      ],
      "metadata": {
        "id": "OLjFtQ7CgFkc"
      },
      "execution_count": null,
      "outputs": []
    },
    {
      "cell_type": "code",
      "source": [
        "print('Average study hours: {:.2f}\\nAverage grade: {:.2f}'.format(media_num, media_grades))"
      ],
      "metadata": {
        "colab": {
          "base_uri": "https://localhost:8080/"
        },
        "id": "FA1CVcXGgDnj",
        "outputId": "3953af16-f72f-45de-aa41-d30681c175ad"
      },
      "execution_count": null,
      "outputs": [
        {
          "output_type": "stream",
          "name": "stdout",
          "text": [
            "Average study hours: 4.50\n",
            "Average grade: 8.50\n"
          ]
        }
      ]
    }
  ]
}