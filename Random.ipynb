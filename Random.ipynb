{
  "nbformat": 4,
  "nbformat_minor": 0,
  "metadata": {
    "colab": {
      "name": "Random.ipynb",
      "provenance": [],
      "authorship_tag": "ABX9TyMWEeenQB/di6XbL8lcY1be",
      "include_colab_link": true
    },
    "kernelspec": {
      "name": "python3",
      "display_name": "Python 3"
    },
    "language_info": {
      "name": "python"
    }
  },
  "cells": [
    {
      "cell_type": "markdown",
      "metadata": {
        "id": "view-in-github",
        "colab_type": "text"
      },
      "source": [
        "<a href=\"https://colab.research.google.com/github/MachadoDeveloper/MachadoDeveloper/blob/main/Random.ipynb\" target=\"_parent\"><img src=\"https://colab.research.google.com/assets/colab-badge.svg\" alt=\"Open In Colab\"/></a>"
      ]
    },
    {
      "cell_type": "code",
      "execution_count": 1,
      "metadata": {
        "id": "Qb-sLaByVuGP"
      },
      "outputs": [],
      "source": [
        "import random"
      ]
    },
    {
      "cell_type": "code",
      "source": [
        "random.random()\n",
        "random.uniform(1, 10)\n",
        "random.randint(1, 6)\n",
        "random.randrange(1,10, 2)"
      ],
      "metadata": {
        "colab": {
          "base_uri": "https://localhost:8080/"
        },
        "id": "5e9xW6UoV6sS",
        "outputId": "ab0df5ac-8603-4bc5-e70b-76b588cae7aa"
      },
      "execution_count": 20,
      "outputs": [
        {
          "output_type": "execute_result",
          "data": {
            "text/plain": [
              "5"
            ]
          },
          "metadata": {},
          "execution_count": 20
        }
      ]
    },
    {
      "cell_type": "code",
      "source": [
        "greetings = ['Hello', 'Hi', 'Hey', 'Howd', 'Hola']\n",
        "random.choice(greetings)\n",
        "random.choices(greetings, k=5)"
      ],
      "metadata": {
        "colab": {
          "base_uri": "https://localhost:8080/"
        },
        "id": "H-NWY78RWScU",
        "outputId": "ad5b564b-85d4-4c20-9751-b3bc24bdf23e"
      },
      "execution_count": 9,
      "outputs": [
        {
          "output_type": "execute_result",
          "data": {
            "text/plain": [
              "['Hey', 'Hello', 'Hello', 'Howd', 'Hi']"
            ]
          },
          "metadata": {},
          "execution_count": 9
        }
      ]
    },
    {
      "cell_type": "code",
      "source": [
        "deck = list(range(1,100))\n",
        "deck"
      ],
      "metadata": {
        "id": "rE6Inm8SXNA2"
      },
      "execution_count": null,
      "outputs": []
    },
    {
      "cell_type": "code",
      "source": [
        "random.shuffle(deck)\n",
        "deck"
      ],
      "metadata": {
        "id": "n35OXFJtXeIu"
      },
      "execution_count": null,
      "outputs": []
    },
    {
      "cell_type": "code",
      "source": [
        "hand = random.sample(deck, k=5)\n",
        "hand"
      ],
      "metadata": {
        "colab": {
          "base_uri": "https://localhost:8080/"
        },
        "id": "Z5XKiG4zX_SN",
        "outputId": "cb4e9b34-fbe5-47e0-bcd5-267550c632f1"
      },
      "execution_count": 29,
      "outputs": [
        {
          "output_type": "execute_result",
          "data": {
            "text/plain": [
              "[94, 68, 43, 74, 78]"
            ]
          },
          "metadata": {},
          "execution_count": 29
        }
      ]
    }
  ]
}