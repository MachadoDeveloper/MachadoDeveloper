{
  "nbformat": 4,
  "nbformat_minor": 0,
  "metadata": {
    "colab": {
      "name": "Aula de Pandas/Graficos.ipynb",
      "provenance": [],
      "authorship_tag": "ABX9TyNmwZreqV4/RcuzOBG1oHcQ",
      "include_colab_link": true
    },
    "kernelspec": {
      "name": "python3",
      "display_name": "Python 3"
    },
    "language_info": {
      "name": "python"
    }
  },
  "cells": [
    {
      "cell_type": "markdown",
      "metadata": {
        "id": "view-in-github",
        "colab_type": "text"
      },
      "source": [
        "<a href=\"https://colab.research.google.com/github/MachadoDeveloper/MachadoDeveloper/blob/main/Aula_de_Pandas_Graficos.ipynb\" target=\"_parent\"><img src=\"https://colab.research.google.com/assets/colab-badge.svg\" alt=\"Open In Colab\"/></a>"
      ]
    },
    {
      "cell_type": "code",
      "execution_count": null,
      "metadata": {
        "id": "lkyUX5auD95h"
      },
      "outputs": [],
      "source": [
        "import pandas as pd\n",
        "import numpy as np\n",
        "from matplotlib import pyplot as plt"
      ]
    },
    {
      "cell_type": "code",
      "source": [
        "from google.colab import files\n",
        "upload = files.upload()"
      ],
      "metadata": {
        "id": "r_0T-_4IFHcT"
      },
      "execution_count": null,
      "outputs": []
    },
    {
      "cell_type": "code",
      "source": [
        "df_pessoas = pd.read_csv('pessoas.csv', delimiter=',', header='infer')"
      ],
      "metadata": {
        "id": "Oi20YKP0FSkc"
      },
      "execution_count": null,
      "outputs": []
    },
    {
      "cell_type": "code",
      "source": [
        "df_pessoas"
      ],
      "metadata": {
        "id": "ypUqlTiNF-1n"
      },
      "execution_count": null,
      "outputs": []
    },
    {
      "cell_type": "code",
      "source": [
        "df_pessoas.describe"
      ],
      "metadata": {
        "id": "0nhzwaZ3GDMM"
      },
      "execution_count": null,
      "outputs": []
    },
    {
      "cell_type": "code",
      "source": [
        "df_pessoas.head()"
      ],
      "metadata": {
        "id": "QCfgSjVRGL86"
      },
      "execution_count": null,
      "outputs": []
    },
    {
      "cell_type": "code",
      "source": [
        "df_pessoas.tail() # mostra os ultimos 5 valores do DF"
      ],
      "metadata": {
        "id": "GHgZbERRhNIu"
      },
      "execution_count": null,
      "outputs": []
    },
    {
      "cell_type": "code",
      "source": [
        "df_pessoas.info()"
      ],
      "metadata": {
        "id": "qLgqBzMohV6I"
      },
      "execution_count": null,
      "outputs": []
    },
    {
      "cell_type": "code",
      "source": [
        "df_pessoas['Pais'].unique()"
      ],
      "metadata": {
        "id": "VtpkE-dgHAAC"
      },
      "execution_count": null,
      "outputs": []
    },
    {
      "cell_type": "code",
      "source": [
        "df_pessoas.loc[df_pessoas.Pais =='Mexico'].Codigo.count()"
      ],
      "metadata": {
        "id": "R-J4ocWnIEoH"
      },
      "execution_count": null,
      "outputs": []
    },
    {
      "cell_type": "code",
      "source": [
        "paises = pd.Series(df_pessoas['Pais'].unique())\n"
      ],
      "metadata": {
        "id": "KO74dAglRbyd"
      },
      "execution_count": null,
      "outputs": []
    },
    {
      "cell_type": "code",
      "source": [
        "df_pessoas.loc[df_pessoas.Pais =='Brazil']"
      ],
      "metadata": {
        "id": "8Y3kA_k-S4zb"
      },
      "execution_count": null,
      "outputs": []
    },
    {
      "cell_type": "code",
      "source": [
        "df_pessoas.loc[df_pessoas.Pais =='Brazil'].Codigo.count()"
      ],
      "metadata": {
        "id": "lDOWtZifTGnR"
      },
      "execution_count": null,
      "outputs": []
    },
    {
      "cell_type": "code",
      "source": [
        "latinos = df_pessoas[df_pessoas.Pais.isin(['Brazil','Argentina','Mexico','Peru','Bolivia','Colombia','Chile','Venezuela','Ecuador','Paraguay'])]"
      ],
      "metadata": {
        "id": "RUICnZ_mTxXY",
        "outputId": "2da80106-54a0-44d8-cc0f-2d24e027fec5",
        "colab": {
          "base_uri": "https://localhost:8080/",
          "height": 167
        }
      },
      "execution_count": null,
      "outputs": [
        {
          "output_type": "error",
          "ename": "NameError",
          "evalue": "ignored",
          "traceback": [
            "\u001b[0;31m---------------------------------------------------------------------------\u001b[0m",
            "\u001b[0;31mNameError\u001b[0m                                 Traceback (most recent call last)",
            "\u001b[0;32m<ipython-input-1-5bfbcb81a891>\u001b[0m in \u001b[0;36m<module>\u001b[0;34m()\u001b[0m\n\u001b[0;32m----> 1\u001b[0;31m \u001b[0mlatinos\u001b[0m \u001b[0;34m=\u001b[0m \u001b[0mdf_pessoas\u001b[0m\u001b[0;34m[\u001b[0m\u001b[0mdf_pessoas\u001b[0m\u001b[0;34m.\u001b[0m\u001b[0mPais\u001b[0m\u001b[0;34m.\u001b[0m\u001b[0misin\u001b[0m\u001b[0;34m(\u001b[0m\u001b[0;34m[\u001b[0m\u001b[0;34m'Brazil'\u001b[0m\u001b[0;34m,\u001b[0m\u001b[0;34m'Argentina'\u001b[0m\u001b[0;34m,\u001b[0m\u001b[0;34m'Mexico'\u001b[0m\u001b[0;34m,\u001b[0m\u001b[0;34m'Peru'\u001b[0m\u001b[0;34m,\u001b[0m\u001b[0;34m'Bolivia'\u001b[0m\u001b[0;34m,\u001b[0m\u001b[0;34m'Colombia'\u001b[0m\u001b[0;34m,\u001b[0m\u001b[0;34m'Chile'\u001b[0m\u001b[0;34m,\u001b[0m\u001b[0;34m'Venezuela'\u001b[0m\u001b[0;34m,\u001b[0m\u001b[0;34m'Ecuador'\u001b[0m\u001b[0;34m,\u001b[0m\u001b[0;34m'Paraguay'\u001b[0m\u001b[0;34m]\u001b[0m\u001b[0;34m)\u001b[0m\u001b[0;34m]\u001b[0m\u001b[0;34m\u001b[0m\u001b[0;34m\u001b[0m\u001b[0m\n\u001b[0m",
            "\u001b[0;31mNameError\u001b[0m: name 'df_pessoas' is not defined"
          ]
        }
      ]
    },
    {
      "cell_type": "code",
      "source": [
        "latinos.Codigo.count()"
      ],
      "metadata": {
        "id": "5BHcUOiAVUua"
      },
      "execution_count": null,
      "outputs": []
    },
    {
      "cell_type": "code",
      "source": [
        "df_pessoas.loc[df_pessoas.Genero == 'Male'].Genero.count()"
      ],
      "metadata": {
        "id": "WxEYWDvoWtx5"
      },
      "execution_count": null,
      "outputs": []
    },
    {
      "cell_type": "code",
      "source": [
        "df_pessoas.loc[df_pessoas.Genero == 'Female'].Genero.count()"
      ],
      "metadata": {
        "id": "UHRtm3MkXG9A"
      },
      "execution_count": null,
      "outputs": []
    },
    {
      "cell_type": "code",
      "source": [
        "df_pessoas.loc[(df_pessoas.Genero == 'Male') & (df_pessoas.Pais == 'Brazil')]"
      ],
      "metadata": {
        "id": "RfTAZhrsX98W"
      },
      "execution_count": null,
      "outputs": []
    },
    {
      "cell_type": "code",
      "source": [
        "df_pessoas.loc[(df_pessoas.Genero == 'Male') & (df_pessoas.Pais == 'Brazil')].count()"
      ],
      "metadata": {
        "id": "YoTG8MBHYRWn"
      },
      "execution_count": null,
      "outputs": []
    },
    {
      "cell_type": "code",
      "source": [
        "df_pessoas.loc[(df_pessoas.Genero == 'Female') & (df_pessoas.Pais == 'Brazil')]"
      ],
      "metadata": {
        "id": "vbKT0nQEZbiD"
      },
      "execution_count": null,
      "outputs": []
    },
    {
      "cell_type": "code",
      "source": [
        "df_pessoas.loc[(df_pessoas.Genero == 'Female') & (df_pessoas.Pais == 'Brazil')].count()"
      ],
      "metadata": {
        "id": "hnwlCoGcZgwg"
      },
      "execution_count": null,
      "outputs": []
    },
    {
      "cell_type": "code",
      "source": [
        "paises = df_pessoas.groupby(['Pais'])['Pais'].count()"
      ],
      "metadata": {
        "id": "Al6HN2bmcBDf"
      },
      "execution_count": null,
      "outputs": []
    },
    {
      "cell_type": "code",
      "source": [
        "filtro =latinos.groupby(['Pais'])['Pais'].count()"
      ],
      "metadata": {
        "id": "YBhQnKT_qEAT"
      },
      "execution_count": null,
      "outputs": []
    },
    {
      "cell_type": "code",
      "source": [
        "%matplotlib inline\n",
        "filtro.plot.bar(color= ['blue', 'green','pink', 'red', 'purple', 'orange','gray','black'])\n",
        "plt.ylabel('Quantidade')\n",
        "plt.xlabel('Países')\n",
        "plt.axis(ymin=0,ymax=35)\n",
        "plt.title('Países do Senso')\n",
        "#plt.legend('Paises Latinos')\n",
        "plt.grid(True, color='red',linestyle='--',linewidth=1, axis='y', alpha=0.2)\n",
        "plt.xticks(rotation=60)\n",
        "plt.show()"
      ],
      "metadata": {
        "id": "rGnXcQfrdS_L",
        "colab": {
          "base_uri": "https://localhost:8080/",
          "height": 335
        },
        "outputId": "2a145366-8fba-4cd5-e235-204d9427cf76"
      },
      "execution_count": null,
      "outputs": [
        {
          "output_type": "display_data",
          "data": {
            "text/plain": [
              "<Figure size 432x288 with 1 Axes>"
            ],
            "image/png": "[encoded data removed]"
          },
          "metadata": {
            "needs_background": "light"
          }
        }
      ]
    },
    {
      "cell_type": "code",
      "source": [
        "genero_brazil = df_pessoas.groupby(['Genero'])['Genero'].count()"
      ],
      "metadata": {
        "id": "R1mi4S5sbZrL"
      },
      "execution_count": null,
      "outputs": []
    },
    {
      "cell_type": "code",
      "source": [
        "genero_brazil.plot.pie()"
      ],
      "metadata": {
        "colab": {
          "base_uri": "https://localhost:8080/",
          "height": 265
        },
        "id": "lOEQ1jkc8tDg",
        "outputId": "f2193a1e-db61-4929-a984-1d40fed20632"
      },
      "execution_count": null,
      "outputs": [
        {
          "output_type": "execute_result",
          "data": {
            "text/plain": [
              "<matplotlib.axes._subplots.AxesSubplot at 0x7f57f29df1d0>"
            ]
          },
          "metadata": {},
          "execution_count": 209
        },
        {
          "output_type": "display_data",
          "data": {
            "text/plain": [
              "<Figure size 432x288 with 1 Axes>"
            ],
            "image/png": "[encoded data removed]"
          },
          "metadata": {}
        }
      ]
    },
    {
      "cell_type": "code",
      "source": [
        "genero_brazil.plot.pie(legend = True,colors= ('pink','blue'),shadow=True, \n",
        "autopct='%1.1f%%').axis('equal') #tirei a opção explode : explode = (0.1,0.2) e assim vai...\n",
        "plt.title('Quantidade de Homens e Mulheres no Brasil')"
      ],
      "metadata": {
        "colab": {
          "base_uri": "https://localhost:8080/",
          "height": 286
        },
        "id": "rToYoaWf985s",
        "outputId": "b438f2f5-bb1d-4924-fdc4-fd76cae54d74"
      },
      "execution_count": null,
      "outputs": [
        {
          "output_type": "execute_result",
          "data": {
            "text/plain": [
              "Text(0.5, 1.0, 'Quantidade de Homens e Mulheres no Brasil')"
            ]
          },
          "metadata": {},
          "execution_count": 224
        },
        {
          "output_type": "display_data",
          "data": {
            "text/plain": [
              "<Figure size 432x288 with 1 Axes>"
            ],
            "image/png": "[encoded data removed]"
          },
          "metadata": {}
        }
      ]
    },
    {
      "cell_type": "code",
      "source": [
        "fig = plt.figure(figsize=(8,3))\n",
        "genero_brazil.plot.bar()"
      ],
      "metadata": {
        "colab": {
          "base_uri": "https://localhost:8080/",
          "height": 268
        },
        "id": "zGxYmh0BDryO",
        "outputId": "62a8dabe-7c70-4205-9dad-034c2fb64ccb"
      },
      "execution_count": null,
      "outputs": [
        {
          "output_type": "execute_result",
          "data": {
            "text/plain": [
              "<matplotlib.axes._subplots.AxesSubplot at 0x7f57f3e63810>"
            ]
          },
          "metadata": {},
          "execution_count": 228
        },
        {
          "output_type": "display_data",
          "data": {
            "text/plain": [
              "<Figure size 576x216 with 1 Axes>"
            ],
            "image/png": "[encoded data removed]"
          },
          "metadata": {
            "needs_background": "light"
          }
        }
      ]
    },
    {
      "cell_type": "code",
      "source": [
        "genero_masc = df_pessoas.loc[df_pessoas.Genero == 'Male'].Genero.count()\n",
        "genero_fem = df_pessoas.loc[df_pessoas.Genero == 'Female'].Genero.count()\n",
        "print(genero_masc, genero_fem)"
      ],
      "metadata": {
        "colab": {
          "base_uri": "https://localhost:8080/"
        },
        "id": "Hv2BzzY_Mzng",
        "outputId": "4949ce47-f4bf-473d-a40a-342bd7342d33"
      },
      "execution_count": null,
      "outputs": [
        {
          "output_type": "stream",
          "name": "stdout",
          "text": [
            "502 498\n"
          ]
        }
      ]
    },
    {
      "cell_type": "code",
      "source": [
        "plt.figure(1)\n",
        "plt.subplot(2,2,1)\n",
        "plt.plot()\n",
        "plt.subplot(2,2,2)\n",
        "plt.plot()\n"
      ],
      "metadata": {
        "colab": {
          "base_uri": "https://localhost:8080/",
          "height": 164
        },
        "id": "2ZDZMlS1Elmw",
        "outputId": "04cd7a72-9a71-4b42-f59d-b6662c45211c"
      },
      "execution_count": null,
      "outputs": [
        {
          "output_type": "execute_result",
          "data": {
            "text/plain": [
              "[]"
            ]
          },
          "metadata": {},
          "execution_count": 272
        },
        {
          "output_type": "display_data",
          "data": {
            "text/plain": [
              "<Figure size 432x288 with 2 Axes>"
            ],
            "image/png": "[encoded data removed]"
          },
          "metadata": {
            "needs_background": "light"
          }
        }
      ]
    }
  ]
}